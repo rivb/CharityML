{
  "nbformat": 4,
  "nbformat_minor": 0,
  "metadata": {
    "colab": {
      "name": "RandomForest_CharityML.ipynb",
      "provenance": [],
      "authorship_tag": "ABX9TyO/K7AXMkpJAdt76Rla6Nws",
      "include_colab_link": true
    },
    "kernelspec": {
      "name": "python3",
      "display_name": "Python 3"
    }
  },
  "cells": [
    {
      "cell_type": "markdown",
      "metadata": {
        "id": "view-in-github",
        "colab_type": "text"
      },
      "source": [
        "<a href=\"https://colab.research.google.com/github/rvaldivia95/CharityML/blob/master/RandomForest_CharityML.ipynb\" target=\"_parent\"><img src=\"https://colab.research.google.com/assets/colab-badge.svg\" alt=\"Open In Colab\"/></a>"
      ]
    },
    {
      "cell_type": "code",
      "metadata": {
        "id": "jY7dHSwgTYu5",
        "colab_type": "code",
        "colab": {}
      },
      "source": [
        "import pandas as pd\n",
        "import numpy as np\n",
        "\n",
        "from sklearn import tree\n",
        "from sklearn.ensemble import RandomForestClassifier\n",
        "from sklearn.model_selection import train_test_split\n",
        "\n",
        "from matplotlib import pyplot as plt\n",
        "import seaborn as sns\n",
        "\n",
        "import graphviz\n",
        "import pydotplus\n",
        "import io\n",
        "from scipy import misc\n",
        "\n",
        "%matplotlib inline"
      ],
      "execution_count": 0,
      "outputs": []
    },
    {
      "cell_type": "code",
      "metadata": {
        "id": "1bF46IyaXRlw",
        "colab_type": "code",
        "colab": {}
      },
      "source": [
        "# Colab library to upload files to notebook\n",
        "from google.colab import files\n",
        "\n",
        "# Install Kaggle library\n",
        "!pip install -q kaggle"
      ],
      "execution_count": 0,
      "outputs": []
    },
    {
      "cell_type": "code",
      "metadata": {
        "id": "LZpiZ0mMXXl-",
        "colab_type": "code",
        "outputId": "8ebf21aa-d0cc-42a7-c146-0e52caf9ea02",
        "colab": {
          "base_uri": "https://localhost:8080/",
          "height": 243
        }
      },
      "source": [
        "!pip install kaggle\n",
        "\n",
        "!mkdir ~/.kaggle\n",
        "!touch ~/.kaggle/kaggle.json\n",
        "\n",
        "api_token = {\"username\":\"raimundovb\",\"key\":\"7f8e2800afe7469feb9049847de092fe\"}\n",
        "\n",
        "import json\n",
        "\n",
        "with open('/root/.kaggle/kaggle.json', 'w') as file:\n",
        "    json.dump(api_token, file)\n",
        "\n",
        "!chmod 600 ~/.kaggle/kaggle.json\n",
        "\n",
        "!kaggle config path -p /content"
      ],
      "execution_count": 0,
      "outputs": [
        {
          "output_type": "stream",
          "text": [
            "Requirement already satisfied: kaggle in /usr/local/lib/python3.6/dist-packages (1.5.6)\n",
            "Requirement already satisfied: requests in /usr/local/lib/python3.6/dist-packages (from kaggle) (2.21.0)\n",
            "Requirement already satisfied: urllib3<1.25,>=1.21.1 in /usr/local/lib/python3.6/dist-packages (from kaggle) (1.24.3)\n",
            "Requirement already satisfied: python-slugify in /usr/local/lib/python3.6/dist-packages (from kaggle) (4.0.0)\n",
            "Requirement already satisfied: six>=1.10 in /usr/local/lib/python3.6/dist-packages (from kaggle) (1.12.0)\n",
            "Requirement already satisfied: certifi in /usr/local/lib/python3.6/dist-packages (from kaggle) (2019.11.28)\n",
            "Requirement already satisfied: tqdm in /usr/local/lib/python3.6/dist-packages (from kaggle) (4.28.1)\n",
            "Requirement already satisfied: python-dateutil in /usr/local/lib/python3.6/dist-packages (from kaggle) (2.6.1)\n",
            "Requirement already satisfied: idna<2.9,>=2.5 in /usr/local/lib/python3.6/dist-packages (from requests->kaggle) (2.8)\n",
            "Requirement already satisfied: chardet<3.1.0,>=3.0.2 in /usr/local/lib/python3.6/dist-packages (from requests->kaggle) (3.0.4)\n",
            "Requirement already satisfied: text-unidecode>=1.3 in /usr/local/lib/python3.6/dist-packages (from python-slugify->kaggle) (1.3)\n",
            "usage: kaggle config [-h] {view,set,unset} ...\n",
            "kaggle config: error: argument command: invalid choice: 'path' (choose from 'view', 'set', 'unset')\n"
          ],
          "name": "stdout"
        }
      ]
    },
    {
      "cell_type": "code",
      "metadata": {
        "id": "guxXykGeXZ8p",
        "colab_type": "code",
        "outputId": "9fd48de1-6218-4a79-cc1a-1acfc47c0a5a",
        "colab": {
          "base_uri": "https://localhost:8080/",
          "height": 191
        }
      },
      "source": [
        "!kaggle competitions download -c udacity-mlcharity-competition"
      ],
      "execution_count": 0,
      "outputs": [
        {
          "output_type": "stream",
          "text": [
            "Warning: Looks like you're using an outdated API Version, please consider updating (server 1.5.6 / client 1.5.4)\n",
            "Downloading test_census.csv.zip to /content\n",
            "  0% 0.00/512k [00:00<?, ?B/s]\n",
            "100% 512k/512k [00:00<00:00, 77.3MB/s]\n",
            "Downloading census.csv.zip to /content\n",
            "  0% 0.00/437k [00:00<?, ?B/s]\n",
            "100% 437k/437k [00:00<00:00, 60.1MB/s]\n",
            "Downloading example_submission.csv to /content\n",
            "  0% 0.00/342k [00:00<?, ?B/s]\n",
            "100% 342k/342k [00:00<00:00, 107MB/s]\n"
          ],
          "name": "stdout"
        }
      ]
    },
    {
      "cell_type": "code",
      "metadata": {
        "id": "KKj9iqU6Xb_X",
        "colab_type": "code",
        "colab": {}
      },
      "source": [
        "import pandas as pd\n",
        "data = pd.read_csv('census.csv.zip', compression='zip', header=0, sep=',', quotechar='\"')"
      ],
      "execution_count": 0,
      "outputs": []
    },
    {
      "cell_type": "code",
      "metadata": {
        "id": "XqV7gCoAXgy1",
        "colab_type": "code",
        "colab": {}
      },
      "source": [
        "data['income'].replace(\"<=50K\",0, inplace = True)\n",
        "data['income'].replace(\">50K\",1, inplace = True)"
      ],
      "execution_count": 0,
      "outputs": []
    },
    {
      "cell_type": "code",
      "metadata": {
        "id": "EC_05_cpXhbC",
        "colab_type": "code",
        "colab": {}
      },
      "source": [
        "labels_workclass, uniques_workclass = pd.factorize(data[\"workclass\"])\n",
        "labels_education_level, uniques_education_level = pd.factorize(data[\"education_level\"])\n",
        "labels_marital_status, uniques_marital_status = pd.factorize(data[\"marital-status\"])\n",
        "labels_occupation, uniques_occupation = pd.factorize(data[\"occupation\"])\n",
        "labels_race , uniques_race = pd.factorize(data[\"race\"])\n",
        "labels_relationship \t, uniques_relationship = pd.factorize(data[\"relationship\"])\n",
        "labels_sex \t, uniques_sex \t = pd.factorize(data[\"sex\"])\n",
        "labels_native_country, uniques_native_country = pd.factorize(data[\"native-country\"])\n",
        "\n",
        "data[\"workclass\"]= labels_workclass\n",
        "data['education_level'] = labels_education_level\n",
        "data['marital-status'] = labels_marital_status\n",
        "data['occupation'] = labels_occupation\n",
        "data['race'] = labels_race\n",
        "data['relationship'] = labels_relationship\n",
        "data['sex'] = labels_sex\n",
        "data['native-country'] = labels_native_country\n"
      ],
      "execution_count": 0,
      "outputs": []
    },
    {
      "cell_type": "code",
      "metadata": {
        "id": "WQ6Qzx-bXl4m",
        "colab_type": "code",
        "outputId": "26574980-13c8-499e-962e-a40741191ca5",
        "colab": {
          "base_uri": "https://localhost:8080/",
          "height": 34
        }
      },
      "source": [
        "train, test = train_test_split(data, test_size = 0.15)\n",
        "print(\"Training size: {}; Test size: {}\".format(len(train), len(test)))"
      ],
      "execution_count": 0,
      "outputs": [
        {
          "output_type": "stream",
          "text": [
            "Training size: 38438; Test size: 6784\n"
          ],
          "name": "stdout"
        }
      ]
    },
    {
      "cell_type": "code",
      "metadata": {
        "id": "JIJpC5wOXpfo",
        "colab_type": "code",
        "colab": {}
      },
      "source": [
        "model = RandomForestClassifier(n_estimators=40)\n"
      ],
      "execution_count": 0,
      "outputs": []
    },
    {
      "cell_type": "code",
      "metadata": {
        "id": "WEW2EYltXsGA",
        "colab_type": "code",
        "colab": {}
      },
      "source": [
        "features= [\"age\" ,\t\"workclass\" ,\t\"education_level\" ,\t\"education-num\" ,\t\"marital-status\" ,\t\"occupation\" ,\t\"relationship\" ,\t\"race\" ,\t\"sex\" ,\t\"capital-gain\" ,\t\"capital-loss\" ,\t\"hours-per-week\" ,\t\"native-country\"]"
      ],
      "execution_count": 0,
      "outputs": []
    },
    {
      "cell_type": "code",
      "metadata": {
        "id": "RE9cFsprXspy",
        "colab_type": "code",
        "colab": {}
      },
      "source": [
        "X_train = train[features]\n",
        "Y_train= train[\"income\"]\n",
        "\n",
        "X_test = train[features]\n",
        "Y_test= train[\"income\"]"
      ],
      "execution_count": 0,
      "outputs": []
    },
    {
      "cell_type": "code",
      "metadata": {
        "id": "JzfgVfJcY5gX",
        "colab_type": "code",
        "outputId": "6f0ed70f-948f-4753-ec3b-3a51078b231c",
        "colab": {
          "base_uri": "https://localhost:8080/",
          "height": 156
        }
      },
      "source": [
        "model.fit(X_train,Y_train)"
      ],
      "execution_count": 0,
      "outputs": [
        {
          "output_type": "execute_result",
          "data": {
            "text/plain": [
              "RandomForestClassifier(bootstrap=True, ccp_alpha=0.0, class_weight=None,\n",
              "                       criterion='gini', max_depth=None, max_features='auto',\n",
              "                       max_leaf_nodes=None, max_samples=None,\n",
              "                       min_impurity_decrease=0.0, min_impurity_split=None,\n",
              "                       min_samples_leaf=1, min_samples_split=2,\n",
              "                       min_weight_fraction_leaf=0.0, n_estimators=40,\n",
              "                       n_jobs=None, oob_score=False, random_state=None,\n",
              "                       verbose=0, warm_start=False)"
            ]
          },
          "metadata": {
            "tags": []
          },
          "execution_count": 22
        }
      ]
    },
    {
      "cell_type": "code",
      "metadata": {
        "id": "IquzpMGwY-ri",
        "colab_type": "code",
        "outputId": "58244dc6-9c55-4abd-cf17-d0ce7ff557e6",
        "colab": {
          "base_uri": "https://localhost:8080/",
          "height": 34
        }
      },
      "source": [
        "model.score(X_test,Y_test)"
      ],
      "execution_count": 0,
      "outputs": [
        {
          "output_type": "execute_result",
          "data": {
            "text/plain": [
              "0.9708621676465997"
            ]
          },
          "metadata": {
            "tags": []
          },
          "execution_count": 23
        }
      ]
    }
  ]
}